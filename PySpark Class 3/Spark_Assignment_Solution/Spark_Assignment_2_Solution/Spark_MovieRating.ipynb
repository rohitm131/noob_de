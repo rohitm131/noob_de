{
 "cells": [
  {
   "cell_type": "code",
   "execution_count": 1,
   "id": "48c7b2a8-2be4-455b-adf0-5c1f46659f68",
   "metadata": {},
   "outputs": [
    {
     "name": "stderr",
     "output_type": "stream",
     "text": [
      "23/12/04 03:42:24 WARN SparkSession: Using an existing Spark session; only runtime SQL configurations will take effect.\n"
     ]
    }
   ],
   "source": [
    "from pyspark.sql import SparkSession\n",
    "from pyspark.sql.types import *\n",
    "from datetime import datetime\n",
    "from pyspark.sql.functions import from_unixtime\n",
    "\n",
    "# Create Spark session\n",
    "spark = SparkSession.builder \\\n",
    "    .appName(\"Spark with Hive\") \\\n",
    "    .enableHiveSupport() \\\n",
    "    .getOrCreate()"
   ]
  },
  {
   "cell_type": "code",
   "execution_count": 2,
   "id": "ac820791-3370-483e-896d-c33e029b31e6",
   "metadata": {},
   "outputs": [
    {
     "name": "stderr",
     "output_type": "stream",
     "text": [
      "                                                                                \r"
     ]
    },
    {
     "name": "stdout",
     "output_type": "stream",
     "text": [
      "root\n",
      " |-- movieId: integer (nullable = true)\n",
      " |-- title: string (nullable = true)\n",
      " |-- genres: string (nullable = true)\n",
      "\n",
      "+-------+--------------------+--------------------+\n",
      "|movieId|               title|              genres|\n",
      "+-------+--------------------+--------------------+\n",
      "|      1|    Toy Story (1995)|Adventure|Animati...|\n",
      "|      2|      Jumanji (1995)|Adventure|Childre...|\n",
      "|      3|Grumpier Old Men ...|      Comedy|Romance|\n",
      "|      4|Waiting to Exhale...|Comedy|Drama|Romance|\n",
      "|      5|Father of the Bri...|              Comedy|\n",
      "+-------+--------------------+--------------------+\n",
      "only showing top 5 rows\n",
      "\n"
     ]
    }
   ],
   "source": [
    "# Reading movies data\n",
    "\n",
    "hdfs_path = '/tmp/spark_movie/movies.csv'\n",
    "df_movies = spark.read.format('csv').option('header', 'true').option('inferSchema', 'true').load(hdfs_path)\n",
    "\n",
    "# Print schema and sample data\n",
    "df_movies.printSchema()\n",
    "df_movies.show(5)"
   ]
  },
  {
   "cell_type": "code",
   "execution_count": 3,
   "id": "bace62ba-bdba-4fd0-8300-20d7f4895534",
   "metadata": {},
   "outputs": [
    {
     "name": "stderr",
     "output_type": "stream",
     "text": [
      "[Stage 3:>                                                          (0 + 1) / 1]\r"
     ]
    },
    {
     "name": "stdout",
     "output_type": "stream",
     "text": [
      "+------+-------+------+-------------------+\n",
      "|userId|movieId|rating|          timestamp|\n",
      "+------+-------+------+-------------------+\n",
      "|     1|      1|   4.0|2000-07-30 18:45:03|\n",
      "|     1|      3|   4.0|2000-07-30 18:20:47|\n",
      "|     1|      6|   4.0|2000-07-30 18:37:04|\n",
      "|     1|     47|   5.0|2000-07-30 19:03:35|\n",
      "|     1|     50|   5.0|2000-07-30 18:48:51|\n",
      "|     1|     70|   3.0|2000-07-30 18:40:00|\n",
      "|     1|    101|   5.0|2000-07-30 18:14:28|\n",
      "|     1|    110|   4.0|2000-07-30 18:36:16|\n",
      "|     1|    151|   5.0|2000-07-30 19:07:21|\n",
      "|     1|    157|   5.0|2000-07-30 19:08:20|\n",
      "|     1|    163|   5.0|2000-07-30 19:00:50|\n",
      "|     1|    216|   5.0|2000-07-30 18:20:08|\n",
      "|     1|    223|   3.0|2000-07-30 18:16:25|\n",
      "|     1|    231|   5.0|2000-07-30 18:19:39|\n",
      "|     1|    235|   4.0|2000-07-30 18:15:08|\n",
      "|     1|    260|   5.0|2000-07-30 18:28:00|\n",
      "|     1|    296|   3.0|2000-07-30 18:49:27|\n",
      "|     1|    316|   3.0|2000-07-30 18:38:30|\n",
      "|     1|    333|   5.0|2000-07-30 18:19:39|\n",
      "|     1|    349|   4.0|2000-07-30 18:42:43|\n",
      "+------+-------+------+-------------------+\n",
      "only showing top 20 rows\n",
      "\n"
     ]
    },
    {
     "name": "stderr",
     "output_type": "stream",
     "text": [
      "                                                                                \r"
     ]
    }
   ],
   "source": [
    "# Define the correct schema based on your CSV structure\n",
    "schema = StructType([\n",
    "    StructField(\"userId\", IntegerType(), True),\n",
    "    StructField(\"movieId\", IntegerType(), True),\n",
    "    StructField(\"rating\", FloatType(), True),\n",
    "    StructField(\"timestamp\",IntegerType(), True),\n",
    "])\n",
    "hdfs_path = '/tmp/spark_movie/ratings.csv'\n",
    "# Read the CSV file into a DataFrame\n",
    "df_ratings = spark.read.format('csv').option('header', 'true').option('inferSchema', 'false').schema(schema).load(hdfs_path)\n",
    "\n",
    "# Convert timestamp to TimestampType\n",
    "df_ratings = df_ratings.withColumn(\"timestamp\", from_unixtime(\"timestamp\").cast(TimestampType()))\n",
    "\n",
    "# Show the DataFrame\n",
    "df_ratings.show()"
   ]
  },
  {
   "cell_type": "code",
   "execution_count": 4,
   "id": "b741b1f1-5479-488d-80dd-cdf25a5c1387",
   "metadata": {},
   "outputs": [
    {
     "name": "stdout",
     "output_type": "stream",
     "text": [
      "+------+-------+-----------------+-------------------+\n",
      "|userId|movieId|              tag|          timestamp|\n",
      "+------+-------+-----------------+-------------------+\n",
      "|     2|  60756|            funny|2015-10-24 19:29:54|\n",
      "|     2|  60756|  Highly quotable|2015-10-24 19:29:56|\n",
      "|     2|  60756|     will ferrell|2015-10-24 19:29:52|\n",
      "|     2|  89774|     Boxing story|2015-10-24 19:33:27|\n",
      "|     2|  89774|              MMA|2015-10-24 19:33:20|\n",
      "|     2|  89774|        Tom Hardy|2015-10-24 19:33:25|\n",
      "|     2| 106782|            drugs|2015-10-24 19:30:54|\n",
      "|     2| 106782|Leonardo DiCaprio|2015-10-24 19:30:51|\n",
      "|     2| 106782|  Martin Scorsese|2015-10-24 19:30:56|\n",
      "|     7|  48516|     way too long|2007-01-25 01:08:45|\n",
      "|    18|    431|        Al Pacino|2016-05-01 21:39:25|\n",
      "|    18|    431|         gangster|2016-05-01 21:39:09|\n",
      "|    18|    431|            mafia|2016-05-01 21:39:15|\n",
      "|    18|   1221|        Al Pacino|2016-04-26 19:35:06|\n",
      "|    18|   1221|            Mafia|2016-04-26 19:35:03|\n",
      "|    18|   5995|        holocaust|2016-02-17 18:57:52|\n",
      "|    18|   5995|       true story|2016-02-17 18:57:59|\n",
      "|    18|  44665|     twist ending|2016-03-02 19:51:23|\n",
      "|    18|  52604|  Anthony Hopkins|2016-03-10 22:58:16|\n",
      "|    18|  52604|  courtroom drama|2016-03-10 22:58:31|\n",
      "+------+-------+-----------------+-------------------+\n",
      "only showing top 20 rows\n",
      "\n"
     ]
    }
   ],
   "source": [
    "# Define the correct schema based on your CSV structure\n",
    "schema = StructType([\n",
    "    StructField(\"userId\", IntegerType(), True),\n",
    "    StructField(\"movieId\", IntegerType(), True),\n",
    "    StructField(\"tag\", StringType(), True),\n",
    "    StructField(\"timestamp\",IntegerType(), True),\n",
    "])\n",
    "\n",
    "hdfs_path = '/tmp/spark_movie/tags.csv'\n",
    "# Read the CSV file into a DataFrame\n",
    "df_tags = spark.read.format('csv').option('header', 'true').option('inferSchema', 'false').schema(schema).load(hdfs_path)\n",
    "\n",
    "# Convert timestamp to TimestampType\n",
    "df_tags = df_tags.withColumn(\"timestamp\", from_unixtime(\"timestamp\").cast(TimestampType()))\n",
    "\n",
    "# Show the DataFrame\n",
    "df_tags.show()"
   ]
  },
  {
   "cell_type": "code",
   "execution_count": 5,
   "id": "fb62cb22-5c66-43c0-b910-fb247a70c1fb",
   "metadata": {},
   "outputs": [],
   "source": [
    "# Work with spark SQL\n",
    "\n",
    "df_movies.createOrReplaceTempView(\"MOVIES\")\n",
    "df_ratings.createOrReplaceTempView(\"RATINGS\")\n",
    "df_tags.createOrReplaceTempView(\"TAGS\")"
   ]
  },
  {
   "cell_type": "code",
   "execution_count": 6,
   "id": "da2661f2-d74d-4c8b-8134-2404432704cd",
   "metadata": {},
   "outputs": [
    {
     "name": "stderr",
     "output_type": "stream",
     "text": [
      "                                                                                \r"
     ]
    },
    {
     "name": "stdout",
     "output_type": "stream",
     "text": [
      "+----+-------+\n",
      "|year|ratings|\n",
      "+----+-------+\n",
      "|2018|   6418|\n",
      "|2017|   8198|\n",
      "|2016|   6703|\n",
      "|2015|   6616|\n",
      "|2014|   1439|\n",
      "|2013|   1664|\n",
      "|2012|   4656|\n",
      "|2011|   1690|\n",
      "|2010|   2301|\n",
      "|2009|   4158|\n",
      "|2008|   4351|\n",
      "|2007|   7114|\n",
      "|2006|   4059|\n",
      "|2005|   5813|\n",
      "|2004|   3279|\n",
      "|2003|   4014|\n",
      "|2002|   3478|\n",
      "|2001|   3922|\n",
      "|2000|  10061|\n",
      "|1999|   2439|\n",
      "+----+-------+\n",
      "only showing top 20 rows\n",
      "\n"
     ]
    },
    {
     "name": "stderr",
     "output_type": "stream",
     "text": [
      "                                                                                \r"
     ]
    },
    {
     "name": "stdout",
     "output_type": "stream",
     "text": [
      "Write Successfull\n"
     ]
    }
   ],
   "source": [
    "# Aggregated number of ratings per year\n",
    "\n",
    "query= \"\"\"Select year(timestamp) as year,count(rating) as ratings \n",
    "       from RATINGS \n",
    "       group by 1 \n",
    "        order by year(timestamp) desc\"\"\"\n",
    "\n",
    "\n",
    "output = spark.sql(query)\n",
    "output.show()\n",
    "\n",
    "# Write data in HDFS into single file\n",
    "\n",
    "# output.coalesce(1).write.format('csv').option('header', 'true').option('delimiter', ',').save('/tmp/output_data/spark_movie/')\n",
    "output.coalesce(1).write.mode(\"overwrite\").format('csv').option('header', 'true') .option('delimiter', ',').save('/tmp/output_data/spark_movie/agg_Ratings.csv')\n",
    "print(\"Write Successfull\")"
   ]
  },
  {
   "cell_type": "code",
   "execution_count": 7,
   "id": "04209cfe-3090-43ae-92ff-fab31135150f",
   "metadata": {},
   "outputs": [
    {
     "name": "stderr",
     "output_type": "stream",
     "text": [
      "                                                                                \r"
     ]
    },
    {
     "name": "stdout",
     "output_type": "stream",
     "text": [
      "+----------+------------------+\n",
      "|year_month|        avg_rating|\n",
      "+----------+------------------+\n",
      "|   2018-09| 3.568708609271523|\n",
      "|   2018-08|3.5577617328519855|\n",
      "|   2018-07| 4.010238907849829|\n",
      "|   2018-06| 3.979713603818616|\n",
      "|   2018-05|2.9516298633017874|\n",
      "|   2018-04|              3.75|\n",
      "|   2018-03| 3.786817713697219|\n",
      "|   2018-02|2.7386655260906756|\n",
      "|   2018-01|3.4194736842105264|\n",
      "|   2017-12|3.2611940298507465|\n",
      "|   2017-11| 3.652173913043478|\n",
      "|   2017-10|3.5244444444444443|\n",
      "|   2017-09|3.6827830188679247|\n",
      "|   2017-08| 4.076923076923077|\n",
      "|   2017-07| 4.052941176470588|\n",
      "|   2017-06|2.9594240837696337|\n",
      "|   2017-05| 3.480183562786817|\n",
      "|   2017-04| 3.626218851570964|\n",
      "|   2017-03| 3.051001821493625|\n",
      "|   2017-02|2.7547619047619047|\n",
      "+----------+------------------+\n",
      "only showing top 20 rows\n",
      "\n"
     ]
    },
    {
     "name": "stderr",
     "output_type": "stream",
     "text": [
      "                                                                                \r"
     ]
    },
    {
     "name": "stdout",
     "output_type": "stream",
     "text": [
      "Write Successfull\n"
     ]
    },
    {
     "name": "stderr",
     "output_type": "stream",
     "text": [
      "                                                                                \r"
     ]
    }
   ],
   "source": [
    "# Average Monthly number of ratings\n",
    "\n",
    "query= \"\"\"Select left(timestamp,7) as year_month,avg(rating) as avg_rating\n",
    "       from RATINGS \n",
    "       group by 1 \n",
    "        order by  left(timestamp,7) desc\"\"\"\n",
    "\n",
    "\n",
    "output = spark.sql(query)\n",
    "output.show()\n",
    "\n",
    "# Write data in HDFS into single file\n",
    "\n",
    "# output.coalesce(1).write.format('csv').option('header', 'true').option('delimiter', ',').save('/tmp/output_data/spark_movie/')\n",
    "output.coalesce(1).write.mode(\"overwrite\").format('csv').option('header', 'true') .option('delimiter', ',').save('/tmp/output_data/spark_movie/avg_monthly_Ratings.csv')\n",
    "print(\"Write Successfull\")"
   ]
  },
  {
   "cell_type": "code",
   "execution_count": 8,
   "id": "4c74018b-6b18-463d-a44d-faadc0c87b8b",
   "metadata": {},
   "outputs": [
    {
     "name": "stderr",
     "output_type": "stream",
     "text": [
      "23/12/04 03:43:09 WARN WindowExec: No Partition Defined for Window operation! Moving all data to a single partition, this can cause serious performance degradation.\n",
      "23/12/04 03:43:09 WARN WindowExec: No Partition Defined for Window operation! Moving all data to a single partition, this can cause serious performance degradation.\n",
      "23/12/04 03:43:09 WARN WindowExec: No Partition Defined for Window operation! Moving all data to a single partition, this can cause serious performance degradation.\n",
      "23/12/04 03:43:10 WARN WindowExec: No Partition Defined for Window operation! Moving all data to a single partition, this can cause serious performance degradation.\n",
      "23/12/04 03:43:10 WARN WindowExec: No Partition Defined for Window operation! Moving all data to a single partition, this can cause serious performance degradation.\n",
      "23/12/04 03:43:11 WARN WindowExec: No Partition Defined for Window operation! Moving all data to a single partition, this can cause serious performance degradation.\n",
      "23/12/04 03:43:11 WARN WindowExec: No Partition Defined for Window operation! Moving all data to a single partition, this can cause serious performance degradation.\n",
      "23/12/04 03:43:11 WARN WindowExec: No Partition Defined for Window operation! Moving all data to a single partition, this can cause serious performance degradation.\n",
      "23/12/04 03:43:11 WARN WindowExec: No Partition Defined for Window operation! Moving all data to a single partition, this can cause serious performance degradation.\n"
     ]
    },
    {
     "name": "stdout",
     "output_type": "stream",
     "text": [
      "+-------------+------+------------------+\n",
      "|rating_bucket|counts|        percentage|\n",
      "+-------------+------+------------------+\n",
      "|      0.0-2.0| 13523|13.410885001388394|\n",
      "|      2.5-4.0| 65551| 65.00753699075727|\n",
      "|           >4| 21762|21.581578007854336|\n",
      "+-------------+------+------------------+\n",
      "\n"
     ]
    },
    {
     "name": "stderr",
     "output_type": "stream",
     "text": [
      "23/12/04 03:43:12 WARN WindowExec: No Partition Defined for Window operation! Moving all data to a single partition, this can cause serious performance degradation.\n",
      "23/12/04 03:43:12 WARN WindowExec: No Partition Defined for Window operation! Moving all data to a single partition, this can cause serious performance degradation.\n",
      "23/12/04 03:43:12 WARN WindowExec: No Partition Defined for Window operation! Moving all data to a single partition, this can cause serious performance degradation.\n",
      "23/12/04 03:43:12 WARN WindowExec: No Partition Defined for Window operation! Moving all data to a single partition, this can cause serious performance degradation.\n",
      "23/12/04 03:43:12 WARN WindowExec: No Partition Defined for Window operation! Moving all data to a single partition, this can cause serious performance degradation.\n",
      "23/12/04 03:43:13 WARN WindowExec: No Partition Defined for Window operation! Moving all data to a single partition, this can cause serious performance degradation.\n",
      "23/12/04 03:43:13 WARN WindowExec: No Partition Defined for Window operation! Moving all data to a single partition, this can cause serious performance degradation.\n",
      "23/12/04 03:43:13 WARN WindowExec: No Partition Defined for Window operation! Moving all data to a single partition, this can cause serious performance degradation.\n",
      "23/12/04 03:43:13 WARN WindowExec: No Partition Defined for Window operation! Moving all data to a single partition, this can cause serious performance degradation.\n"
     ]
    },
    {
     "name": "stdout",
     "output_type": "stream",
     "text": [
      "Write Successfull\n"
     ]
    }
   ],
   "source": [
    "# Ratings Level Distribution\n",
    "\n",
    "query= \"\"\"with t1 as (\n",
    "    Select rating,case when rating between 0 and 2 THEN '0.0-2.0'\n",
    "    WHEN rating between 2.3 and 4 THEN '2.5-4.0'\n",
    "    ELSE '>4' END as rating_bucket\n",
    "    from RATINGS),\n",
    "    \n",
    "    t2 as (select rating_bucket,count(rating) as counts\n",
    "    from t1\n",
    "    group by 1\n",
    "    order by 1)\n",
    "    \n",
    "    Select rating_bucket,counts,counts*100/sum(counts)over() as percentage\n",
    "    from t2\"\"\"\n",
    "\n",
    "# Select rating_bucket,count(*) as counts\n",
    "# from t1\n",
    "# group by 1\n",
    "# order by 1\"\"\"\n",
    "\n",
    "\n",
    "output = spark.sql(query)\n",
    "output.show()\n",
    "\n",
    "# Write data in HDFS into single file\n",
    "\n",
    "output.coalesce(1).write.mode(\"overwrite\").format('csv').option('header', 'true') .option('delimiter', ',').save('/tmp/output_data/spark_movie/distribution_ratings.csv')\n",
    "print(\"Write Successfull\")"
   ]
  },
  {
   "cell_type": "code",
   "execution_count": 9,
   "id": "085dc323-f974-4921-822f-a8aa5ca03bd9",
   "metadata": {},
   "outputs": [
    {
     "name": "stdout",
     "output_type": "stream",
     "text": [
      "+--------------------+\n",
      "|               title|\n",
      "+--------------------+\n",
      "|Browning Version,...|\n",
      "|Call Northside 77...|\n",
      "|  Chalet Girl (2011)|\n",
      "|  Chosen, The (1981)|\n",
      "|Color of Paradise...|\n",
      "|For All Mankind (...|\n",
      "|I Know Where I'm ...|\n",
      "|In the Realms of ...|\n",
      "|Innocents, The (1...|\n",
      "|Mutiny on the Bou...|\n",
      "|      Niagara (1953)|\n",
      "|Parallax View, Th...|\n",
      "|        Proof (1991)|\n",
      "|Road Home, The (W...|\n",
      "|Roaring Twenties,...|\n",
      "|      Scrooge (1970)|\n",
      "|This Gun for Hire...|\n",
      "|Twentieth Century...|\n",
      "+--------------------+\n",
      "\n",
      "Write Successfull\n"
     ]
    }
   ],
   "source": [
    "# Movies Tagged but not Rated\n",
    "\n",
    "query= \"\"\"\n",
    "          with t1 as (Select distinct \n",
    "          t.movieID from TAGS as t\n",
    "          left join RATINGS as r\n",
    "          on t.movieID=r.movieID\n",
    "          where r.movieID IS NULL)\n",
    "          \n",
    "          Select m.title \n",
    "          from MOVIES as m\n",
    "          inner join t1\n",
    "          on m.movieID=t1.movieID\n",
    "          order by 1\"\"\"\n",
    "          \n",
    "\n",
    "output = spark.sql(query)\n",
    "output.show()\n",
    "\n",
    "# Write data in HDFS into single file\n",
    "\n",
    "output.coalesce(1).write.mode(\"overwrite\").format('csv').option('header', 'true') .option('delimiter', ',').save('/tmp/output_data/spark_movie/tagged_not_rated.csv')\n",
    "print(\"Write Successfull\")"
   ]
  },
  {
   "cell_type": "code",
   "execution_count": 10,
   "id": "04a8df08-3b3f-4c5e-ba68-dae43187345e",
   "metadata": {},
   "outputs": [
    {
     "name": "stderr",
     "output_type": "stream",
     "text": [
      "                                                                                \r"
     ]
    },
    {
     "name": "stdout",
     "output_type": "stream",
     "text": [
      "+--------------------+\n",
      "|               title|\n",
      "+--------------------+\n",
      "|          '71 (2014)|\n",
      "|'Hellboy': The Se...|\n",
      "|'Round Midnight (...|\n",
      "| 'Salem's Lot (2004)|\n",
      "|'Til There Was Yo...|\n",
      "|'Tis the Season f...|\n",
      "|  'burbs, The (1989)|\n",
      "|'night Mother (1986)|\n",
      "|*batteries not in...|\n",
      "|...All the Marble...|\n",
      "|00 Schneider - Ja...|\n",
      "|   1-900 (06) (1994)|\n",
      "|           10 (1979)|\n",
      "|10 Cent Pistol (2...|\n",
      "|10 Items or Less ...|\n",
      "|     10 Years (2011)|\n",
      "|    10,000 BC (2008)|\n",
      "|    100 Girls (2000)|\n",
      "|  100 Streets (2016)|\n",
      "|101 Dalmatians II...|\n",
      "+--------------------+\n",
      "only showing top 20 rows\n",
      "\n",
      "Write Successfull\n"
     ]
    }
   ],
   "source": [
    "# Movies Rated but not Tagged\n",
    "\n",
    "query= \"\"\"\n",
    "          with t1 as (Select distinct \n",
    "          r.movieID from RATINGS as r\n",
    "          left join TAGS as t\n",
    "          on t.movieID=r.movieID\n",
    "          where t.movieID IS NULL)\n",
    "          \n",
    "          Select m.title \n",
    "          from MOVIES as m\n",
    "          inner join t1\n",
    "          on m.movieID=t1.movieID\n",
    "          order by 1\"\"\"\n",
    "          \n",
    "\n",
    "output = spark.sql(query)\n",
    "output.show()\n",
    "\n",
    "# Write data in HDFS into single file\n",
    "\n",
    "output.coalesce(1).write.mode(\"overwrite\").format('csv').option('header', 'true') .option('delimiter', ',').save('/tmp/output_data/spark_movie/rated_not_tagged.csv')\n",
    "print(\"Write Successfull\")"
   ]
  },
  {
   "cell_type": "code",
   "execution_count": 11,
   "id": "aaf4672d-2b09-46f0-8042-9a0868316858",
   "metadata": {},
   "outputs": [
    {
     "name": "stderr",
     "output_type": "stream",
     "text": [
      "23/12/04 03:43:34 WARN WindowExec: No Partition Defined for Window operation! Moving all data to a single partition, this can cause serious performance degradation.\n",
      "23/12/04 03:43:34 WARN WindowExec: No Partition Defined for Window operation! Moving all data to a single partition, this can cause serious performance degradation.\n",
      "23/12/04 03:43:34 WARN WindowExec: No Partition Defined for Window operation! Moving all data to a single partition, this can cause serious performance degradation.\n",
      "23/12/04 03:43:34 WARN WindowExec: No Partition Defined for Window operation! Moving all data to a single partition, this can cause serious performance degradation.\n",
      "23/12/04 03:43:35 WARN WindowExec: No Partition Defined for Window operation! Moving all data to a single partition, this can cause serious performance degradation.\n",
      "23/12/04 03:43:35 WARN WindowExec: No Partition Defined for Window operation! Moving all data to a single partition, this can cause serious performance degradation.\n",
      "23/12/04 03:43:35 WARN WindowExec: No Partition Defined for Window operation! Moving all data to a single partition, this can cause serious performance degradation.\n",
      "23/12/04 03:43:35 WARN WindowExec: No Partition Defined for Window operation! Moving all data to a single partition, this can cause serious performance degradation.\n",
      "23/12/04 03:43:35 WARN WindowExec: No Partition Defined for Window operation! Moving all data to a single partition, this can cause serious performance degradation.\n",
      "23/12/04 03:43:35 WARN WindowExec: No Partition Defined for Window operation! Moving all data to a single partition, this can cause serious performance degradation.\n",
      "23/12/04 03:43:35 WARN WindowExec: No Partition Defined for Window operation! Moving all data to a single partition, this can cause serious performance degradation.\n",
      "23/12/04 03:43:35 WARN WindowExec: No Partition Defined for Window operation! Moving all data to a single partition, this can cause serious performance degradation.\n",
      "23/12/04 03:43:35 WARN WindowExec: No Partition Defined for Window operation! Moving all data to a single partition, this can cause serious performance degradation.\n",
      "23/12/04 03:43:35 WARN WindowExec: No Partition Defined for Window operation! Moving all data to a single partition, this can cause serious performance degradation.\n",
      "23/12/04 03:43:35 WARN WindowExec: No Partition Defined for Window operation! Moving all data to a single partition, this can cause serious performance degradation.\n",
      "23/12/04 03:43:35 WARN WindowExec: No Partition Defined for Window operation! Moving all data to a single partition, this can cause serious performance degradation.\n",
      "23/12/04 03:43:35 WARN WindowExec: No Partition Defined for Window operation! Moving all data to a single partition, this can cause serious performance degradation.\n",
      "23/12/04 03:43:35 WARN WindowExec: No Partition Defined for Window operation! Moving all data to a single partition, this can cause serious performance degradation.\n",
      "23/12/04 03:43:35 WARN WindowExec: No Partition Defined for Window operation! Moving all data to a single partition, this can cause serious performance degradation.\n",
      "23/12/04 03:43:35 WARN WindowExec: No Partition Defined for Window operation! Moving all data to a single partition, this can cause serious performance degradation.\n",
      "23/12/04 03:43:36 WARN WindowExec: No Partition Defined for Window operation! Moving all data to a single partition, this can cause serious performance degradation.\n",
      "23/12/04 03:43:36 WARN WindowExec: No Partition Defined for Window operation! Moving all data to a single partition, this can cause serious performance degradation.\n",
      "23/12/04 03:43:36 WARN WindowExec: No Partition Defined for Window operation! Moving all data to a single partition, this can cause serious performance degradation.\n",
      "23/12/04 03:43:36 WARN WindowExec: No Partition Defined for Window operation! Moving all data to a single partition, this can cause serious performance degradation.\n",
      "23/12/04 03:43:37 WARN WindowExec: No Partition Defined for Window operation! Moving all data to a single partition, this can cause serious performance degradation.\n",
      "23/12/04 03:43:37 WARN WindowExec: No Partition Defined for Window operation! Moving all data to a single partition, this can cause serious performance degradation.\n",
      "23/12/04 03:43:37 WARN WindowExec: No Partition Defined for Window operation! Moving all data to a single partition, this can cause serious performance degradation.\n",
      "23/12/04 03:43:37 WARN WindowExec: No Partition Defined for Window operation! Moving all data to a single partition, this can cause serious performance degradation.\n",
      "23/12/04 03:43:37 WARN WindowExec: No Partition Defined for Window operation! Moving all data to a single partition, this can cause serious performance degradation.\n",
      "23/12/04 03:43:37 WARN WindowExec: No Partition Defined for Window operation! Moving all data to a single partition, this can cause serious performance degradation.\n",
      "23/12/04 03:43:37 WARN WindowExec: No Partition Defined for Window operation! Moving all data to a single partition, this can cause serious performance degradation.\n",
      "23/12/04 03:43:37 WARN WindowExec: No Partition Defined for Window operation! Moving all data to a single partition, this can cause serious performance degradation.\n",
      "23/12/04 03:43:38 WARN WindowExec: No Partition Defined for Window operation! Moving all data to a single partition, this can cause serious performance degradation.\n",
      "23/12/04 03:43:38 WARN WindowExec: No Partition Defined for Window operation! Moving all data to a single partition, this can cause serious performance degradation.\n",
      "23/12/04 03:43:38 WARN WindowExec: No Partition Defined for Window operation! Moving all data to a single partition, this can cause serious performance degradation.\n",
      "23/12/04 03:43:38 WARN WindowExec: No Partition Defined for Window operation! Moving all data to a single partition, this can cause serious performance degradation.\n",
      "23/12/04 03:43:38 WARN WindowExec: No Partition Defined for Window operation! Moving all data to a single partition, this can cause serious performance degradation.\n",
      "23/12/04 03:43:38 WARN WindowExec: No Partition Defined for Window operation! Moving all data to a single partition, this can cause serious performance degradation.\n",
      "23/12/04 03:43:38 WARN WindowExec: No Partition Defined for Window operation! Moving all data to a single partition, this can cause serious performance degradation.\n",
      "23/12/04 03:43:38 WARN WindowExec: No Partition Defined for Window operation! Moving all data to a single partition, this can cause serious performance degradation.\n",
      "23/12/04 03:43:38 WARN WindowExec: No Partition Defined for Window operation! Moving all data to a single partition, this can cause serious performance degradation.\n",
      "23/12/04 03:43:38 WARN WindowExec: No Partition Defined for Window operation! Moving all data to a single partition, this can cause serious performance degradation.\n",
      "23/12/04 03:43:38 WARN WindowExec: No Partition Defined for Window operation! Moving all data to a single partition, this can cause serious performance degradation.\n",
      "23/12/04 03:43:38 WARN WindowExec: No Partition Defined for Window operation! Moving all data to a single partition, this can cause serious performance degradation.\n",
      "23/12/04 03:43:38 WARN WindowExec: No Partition Defined for Window operation! Moving all data to a single partition, this can cause serious performance degradation.\n",
      "23/12/04 03:43:38 WARN WindowExec: No Partition Defined for Window operation! Moving all data to a single partition, this can cause serious performance degradation.\n"
     ]
    },
    {
     "name": "stdout",
     "output_type": "stream",
     "text": [
      "+--------------------+--------+----------+--------------------+----------+------+\n",
      "|        Movie_title1|avg_rank|avg_rating|        Movie_title2|count_rank|counts|\n",
      "+--------------------+--------+----------+--------------------+----------+------+\n",
      "|Boondock Saints, ...|       1|    4.2209|American Beauty (...|         1|   204|\n",
      "|       Brazil (1985)|       2|     4.178|Ace Ventura: Pet ...|         2|   161|\n",
      "|Cinema Paradiso (...|       3|    4.1618|    Mask, The (1994)|         3|   157|\n",
      "|       Snatch (2000)|       4|    4.1559|     Die Hard (1988)|         4|   145|\n",
      "|For a Few Dollars...|       5|    4.1515|Die Hard: With a ...|         5|   144|\n",
      "|Lives of Others, ...|       6|    4.1176|Groundhog Day (1993)|         6|   143|\n",
      "|  Toy Story 3 (2010)|       7|    4.1091|Dumb & Dumber (Du...|         7|   133|\n",
      "|Boogie Nights (1997)|       8|    4.0769|Monsters, Inc. (2...|         8|   132|\n",
      "|Boogie Nights (1997)|       8|    4.0769|    GoldenEye (1995)|         8|   132|\n",
      "|American Beauty (...|       9|    4.0564|Austin Powers: Th...|         9|   121|\n",
      "|Lock, Stock & Two...|      10|    4.0522|Willy Wonka & the...|        10|   119|\n",
      "+--------------------+--------+----------+--------------------+----------+------+\n",
      "\n"
     ]
    },
    {
     "name": "stderr",
     "output_type": "stream",
     "text": [
      "23/12/04 03:43:40 WARN WindowExec: No Partition Defined for Window operation! Moving all data to a single partition, this can cause serious performance degradation.\n",
      "23/12/04 03:43:40 WARN WindowExec: No Partition Defined for Window operation! Moving all data to a single partition, this can cause serious performance degradation.\n",
      "23/12/04 03:43:40 WARN WindowExec: No Partition Defined for Window operation! Moving all data to a single partition, this can cause serious performance degradation.\n",
      "23/12/04 03:43:40 WARN WindowExec: No Partition Defined for Window operation! Moving all data to a single partition, this can cause serious performance degradation.\n",
      "23/12/04 03:43:40 WARN WindowExec: No Partition Defined for Window operation! Moving all data to a single partition, this can cause serious performance degradation.\n",
      "23/12/04 03:43:40 WARN WindowExec: No Partition Defined for Window operation! Moving all data to a single partition, this can cause serious performance degradation.\n",
      "23/12/04 03:43:40 WARN WindowExec: No Partition Defined for Window operation! Moving all data to a single partition, this can cause serious performance degradation.\n",
      "23/12/04 03:43:40 WARN WindowExec: No Partition Defined for Window operation! Moving all data to a single partition, this can cause serious performance degradation.\n",
      "23/12/04 03:43:40 WARN WindowExec: No Partition Defined for Window operation! Moving all data to a single partition, this can cause serious performance degradation.\n",
      "23/12/04 03:43:40 WARN WindowExec: No Partition Defined for Window operation! Moving all data to a single partition, this can cause serious performance degradation.\n",
      "23/12/04 03:43:40 WARN WindowExec: No Partition Defined for Window operation! Moving all data to a single partition, this can cause serious performance degradation.\n",
      "23/12/04 03:43:40 WARN WindowExec: No Partition Defined for Window operation! Moving all data to a single partition, this can cause serious performance degradation.\n",
      "23/12/04 03:43:41 WARN WindowExec: No Partition Defined for Window operation! Moving all data to a single partition, this can cause serious performance degradation.\n",
      "23/12/04 03:43:41 WARN WindowExec: No Partition Defined for Window operation! Moving all data to a single partition, this can cause serious performance degradation.\n",
      "23/12/04 03:43:41 WARN WindowExec: No Partition Defined for Window operation! Moving all data to a single partition, this can cause serious performance degradation.\n",
      "23/12/04 03:43:41 WARN WindowExec: No Partition Defined for Window operation! Moving all data to a single partition, this can cause serious performance degradation.\n",
      "23/12/04 03:43:41 WARN WindowExec: No Partition Defined for Window operation! Moving all data to a single partition, this can cause serious performance degradation.\n",
      "23/12/04 03:43:41 WARN WindowExec: No Partition Defined for Window operation! Moving all data to a single partition, this can cause serious performance degradation.\n",
      "23/12/04 03:43:41 WARN WindowExec: No Partition Defined for Window operation! Moving all data to a single partition, this can cause serious performance degradation.\n",
      "23/12/04 03:43:41 WARN WindowExec: No Partition Defined for Window operation! Moving all data to a single partition, this can cause serious performance degradation.\n",
      "23/12/04 03:43:41 WARN WindowExec: No Partition Defined for Window operation! Moving all data to a single partition, this can cause serious performance degradation.\n",
      "23/12/04 03:43:41 WARN WindowExec: No Partition Defined for Window operation! Moving all data to a single partition, this can cause serious performance degradation.\n",
      "23/12/04 03:43:41 WARN WindowExec: No Partition Defined for Window operation! Moving all data to a single partition, this can cause serious performance degradation.\n",
      "23/12/04 03:43:41 WARN WindowExec: No Partition Defined for Window operation! Moving all data to a single partition, this can cause serious performance degradation.\n",
      "23/12/04 03:43:42 WARN WindowExec: No Partition Defined for Window operation! Moving all data to a single partition, this can cause serious performance degradation.\n",
      "23/12/04 03:43:42 WARN WindowExec: No Partition Defined for Window operation! Moving all data to a single partition, this can cause serious performance degradation.\n",
      "23/12/04 03:43:42 WARN WindowExec: No Partition Defined for Window operation! Moving all data to a single partition, this can cause serious performance degradation.\n",
      "23/12/04 03:43:42 WARN WindowExec: No Partition Defined for Window operation! Moving all data to a single partition, this can cause serious performance degradation.\n",
      "23/12/04 03:43:42 WARN WindowExec: No Partition Defined for Window operation! Moving all data to a single partition, this can cause serious performance degradation.\n",
      "23/12/04 03:43:42 WARN WindowExec: No Partition Defined for Window operation! Moving all data to a single partition, this can cause serious performance degradation.\n",
      "23/12/04 03:43:42 WARN WindowExec: No Partition Defined for Window operation! Moving all data to a single partition, this can cause serious performance degradation.\n",
      "23/12/04 03:43:42 WARN WindowExec: No Partition Defined for Window operation! Moving all data to a single partition, this can cause serious performance degradation.\n",
      "23/12/04 03:43:42 WARN WindowExec: No Partition Defined for Window operation! Moving all data to a single partition, this can cause serious performance degradation.\n",
      "23/12/04 03:43:42 WARN WindowExec: No Partition Defined for Window operation! Moving all data to a single partition, this can cause serious performance degradation.\n",
      "23/12/04 03:43:42 WARN WindowExec: No Partition Defined for Window operation! Moving all data to a single partition, this can cause serious performance degradation.\n",
      "23/12/04 03:43:42 WARN WindowExec: No Partition Defined for Window operation! Moving all data to a single partition, this can cause serious performance degradation.\n",
      "23/12/04 03:43:42 WARN WindowExec: No Partition Defined for Window operation! Moving all data to a single partition, this can cause serious performance degradation.\n",
      "23/12/04 03:43:42 WARN WindowExec: No Partition Defined for Window operation! Moving all data to a single partition, this can cause serious performance degradation.\n",
      "23/12/04 03:43:42 WARN WindowExec: No Partition Defined for Window operation! Moving all data to a single partition, this can cause serious performance degradation.\n",
      "23/12/04 03:43:42 WARN WindowExec: No Partition Defined for Window operation! Moving all data to a single partition, this can cause serious performance degradation.\n",
      "23/12/04 03:43:43 WARN WindowExec: No Partition Defined for Window operation! Moving all data to a single partition, this can cause serious performance degradation.\n",
      "23/12/04 03:43:43 WARN WindowExec: No Partition Defined for Window operation! Moving all data to a single partition, this can cause serious performance degradation.\n",
      "23/12/04 03:43:43 WARN WindowExec: No Partition Defined for Window operation! Moving all data to a single partition, this can cause serious performance degradation.\n",
      "23/12/04 03:43:43 WARN WindowExec: No Partition Defined for Window operation! Moving all data to a single partition, this can cause serious performance degradation.\n",
      "23/12/04 03:43:43 WARN WindowExec: No Partition Defined for Window operation! Moving all data to a single partition, this can cause serious performance degradation.\n",
      "23/12/04 03:43:43 WARN WindowExec: No Partition Defined for Window operation! Moving all data to a single partition, this can cause serious performance degradation.\n"
     ]
    },
    {
     "name": "stdout",
     "output_type": "stream",
     "text": [
      "Write Successfull\n"
     ]
    }
   ],
   "source": [
    "# Rated but untagged movies (With more than 30 user ratings) -- Top Movies in terms of avg rating and number of ratings\n",
    "\n",
    "query= \"\"\" with t1 as \n",
    "            (Select movieid\n",
    "                from ratings\n",
    "                 group by 1\n",
    "              having count(distinct userid)>30),\n",
    "\n",
    "        t2 as (Select \n",
    "           t1.movieID from t1\n",
    "           left join TAGS as t\n",
    "           on t1.movieID=t.movieID\n",
    "           where t.movieID IS NULL),\n",
    "          \n",
    "           t3 as (Select m.title,m.movieID \n",
    "           from MOVIES as m\n",
    "          inner join t2\n",
    "           on m.movieID=t2.movieID\n",
    "           order by 1),\n",
    "           \n",
    "           t4 as (Select t3.title,avg(r.rating) as avg_rating,\n",
    "           dense_rank()over(order by avg(r.rating) desc) as avg_rank\n",
    "           from t3 left join RATINGS as r\n",
    "           on t3.movieID=r.movieID\n",
    "           group by 1),\n",
    "           \n",
    "           t5 as (Select t3.title,count(rating) as counts,\n",
    "           dense_rank()over(order by count(rating) desc) as count_rank\n",
    "           from t3 left join RATINGS as r\n",
    "           on t3.movieID=r.movieID\n",
    "           group by 1)\n",
    "           \n",
    "           Select t4.title as Movie_title1,t4.avg_rank,Round(t4.avg_rating,4) as avg_rating,t5.title as Movie_title2,t5.count_rank,t5.counts\n",
    "           from t4 inner join t5\n",
    "           on t4.avg_rank=t5.count_rank\n",
    "           where t4.avg_rank<=10 and t5.count_rank<=10\n",
    "        \n",
    "           \"\"\"\n",
    "          \n",
    "\n",
    "output = spark.sql(query)\n",
    "output.show()\n",
    "\n",
    "# Write data in HDFS into single file\n",
    "\n",
    "output.coalesce(1).write.mode(\"overwrite\").format('csv').option('header', 'true') .option('delimiter', ',').save('/tmp/output_data/spark_movie/top_10_avgratings&count_ratings.csv')\n",
    "print(\"Write Successfull\")"
   ]
  },
  {
   "cell_type": "code",
   "execution_count": 12,
   "id": "b5daca0c-761e-4bf0-9555-787686546c4b",
   "metadata": {},
   "outputs": [
    {
     "name": "stdout",
     "output_type": "stream",
     "text": [
      "+--------------+-------------+--------------------+\n",
      "|tags_per_movie|tags_per_user|          Comparison|\n",
      "+--------------+-------------+--------------------+\n",
      "|          2.34|         63.5|tags_per_user is ...|\n",
      "+--------------+-------------+--------------------+\n",
      "\n",
      "Write Successfull\n"
     ]
    }
   ],
   "source": [
    "# Tags per movie vs Tags per User\n",
    "\n",
    "query= \"\"\"with t1 as(\n",
    "          Select '1' as key, round((sum(CASE when tag IS NOT NULL THEN 1 ELSE 0 END)/count(distinct movieid)),2) as tags_per_movie\n",
    "          from TAGS),\n",
    "          \n",
    "          t2 as ( Select '1' as key, (sum(CASE WHEN tag IS NOT NULL THEN 1 ELSE 0 END)/count(distinct userid)) as tags_per_user\n",
    "          from TAGS)\n",
    "          \n",
    "          Select t1.tags_per_movie,t2.tags_per_user,\n",
    "          CASE WHEN tags_per_user>tags_per_movie THEN 'tags_per_user is higher'\n",
    "          ELSE 'tags_per_movie is higher' END as Comparison\n",
    "          from t1 inner join t2 on t1.key=t2.key\"\"\"\n",
    "          \n",
    "\n",
    "output = spark.sql(query)\n",
    "output.show()\n",
    "\n",
    "# Write data in HDFS into single file\n",
    "\n",
    "output.coalesce(1).write.mode(\"overwrite\").format('csv').option('header', 'true') .option('delimiter', ',').save('/tmp/output_data/spark_movie/tags_per_movieVStags_per_user.csv')\n",
    "print(\"Write Successfull\")"
   ]
  },
  {
   "cell_type": "code",
   "execution_count": 13,
   "id": "73fca7ee-c899-422e-9507-ebf5c0b1b447",
   "metadata": {},
   "outputs": [
    {
     "name": "stderr",
     "output_type": "stream",
     "text": [
      "                                                                                \r"
     ]
    },
    {
     "name": "stdout",
     "output_type": "stream",
     "text": [
      "+------+\n",
      "|userid|\n",
      "+------+\n",
      "|   474|\n",
      "|   318|\n",
      "|   543|\n",
      "|   288|\n",
      "+------+\n",
      "\n",
      "Write Successfull\n"
     ]
    }
   ],
   "source": [
    "# Users that tagged but did not Rate movies\n",
    "\n",
    "query= \"\"\"\n",
    "         \n",
    "         Select distinct t.userid\n",
    "         from TAGS as t\n",
    "         left join RATINGS as r\n",
    "         on t.movieID=r.movieID\n",
    "         where r.userID is NULL\"\"\"\n",
    "          \n",
    "\n",
    "output = spark.sql(query)\n",
    "output.show()\n",
    "\n",
    "# Write data in HDFS into single file\n",
    "\n",
    "output.coalesce(1).write.mode(\"overwrite\").format('csv').option('header', 'true') .option('delimiter', ',').save('/tmp/output_data/spark_movie/users_tagged_not_rate.csv')\n",
    "print(\"Write Successfull\")"
   ]
  },
  {
   "cell_type": "code",
   "execution_count": 14,
   "id": "b5c08457-8f5a-4ae0-930f-a59bc776a1b1",
   "metadata": {},
   "outputs": [
    {
     "name": "stdout",
     "output_type": "stream",
     "text": [
      "+----------------+-----------------+\n",
      "|ratings_per_user|ratings_per_movie|\n",
      "+----------------+-----------------+\n",
      "|           165.3|            10.37|\n",
      "+----------------+-----------------+\n",
      "\n",
      "Write Successfull\n"
     ]
    }
   ],
   "source": [
    "# Ratings per user versus Ratings per Movie\n",
    "\n",
    "query= \"\"\"with t1 as(\n",
    "          Select '1' as key, round((SUM(CASE when rating IS NOT NULL THEN 1 ELSE 0 END)/count(distinct userid)),2) as ratings_per_user\n",
    "          from RATINGS),\n",
    "          \n",
    "          t2 as ( Select '1' as key, round((sum(CASE WHEN rating IS NOT NULL THEN 1 ELSE 0 END)/count(distinct movieid)),2) as ratings_per_movie\n",
    "          from RATINGS)\n",
    "          \n",
    "          Select t1.ratings_per_user,t2.ratings_per_movie\n",
    "          from t1 inner join t2 on t1.key=t2.key\"\"\"\n",
    "\n",
    "\n",
    "output = spark.sql(query)\n",
    "output.show()\n",
    "\n",
    "# Write data in HDFS into single file\n",
    "\n",
    "output.coalesce(1).write.mode(\"overwrite\").format('csv').option('header', 'true') .option('delimiter', ',').save('/tmp/output_data/spark_movie/ratings_per_userVSratings_per_movie.csv')\n",
    "print(\"Write Successfull\")"
   ]
  },
  {
   "cell_type": "code",
   "execution_count": 15,
   "id": "099ed18f-e3b9-4a03-aae0-7ad007773e40",
   "metadata": {},
   "outputs": [
    {
     "name": "stderr",
     "output_type": "stream",
     "text": [
      "                                                                                \r"
     ]
    },
    {
     "name": "stdout",
     "output_type": "stream",
     "text": [
      "+------+-------------------+\n",
      "|rating|most_frequent_genre|\n",
      "+------+-------------------+\n",
      "|   5.0|              Drama|\n",
      "|   4.5|              Drama|\n",
      "|   4.0|              Drama|\n",
      "|   3.5|             Comedy|\n",
      "|   3.0|             Comedy|\n",
      "|   2.5|             Comedy|\n",
      "|   2.0|             Comedy|\n",
      "|   1.5|             Comedy|\n",
      "|   1.0|             Comedy|\n",
      "|   0.5|             Comedy|\n",
      "+------+-------------------+\n",
      "\n"
     ]
    },
    {
     "name": "stderr",
     "output_type": "stream",
     "text": [
      "                                                                                \r"
     ]
    },
    {
     "name": "stdout",
     "output_type": "stream",
     "text": [
      "Write Successfull\n"
     ]
    }
   ],
   "source": [
    "# Predominant Genre per rating level\n",
    "\n",
    "query= \"\"\"with t1 as(\n",
    "          Select r.rating,m.genres,count(*) as counts,\n",
    "          dense_rank()over(partition by r.rating order by count(*) desc) as ranker\n",
    "          from RATINGS AS r\n",
    "          left join MOVIES as m\n",
    "          on r.movieID=m.movieID\n",
    "          group by 1,2)\n",
    "          \n",
    "          Select rating,genres as most_frequent_genre from t1 \n",
    "          where ranker=1\n",
    "          order by rating desc\"\"\"\n",
    "\n",
    "\n",
    "          \n",
    "\n",
    "output = spark.sql(query)\n",
    "output.show()\n",
    "\n",
    "# Write data in HDFS into single file\n",
    "\n",
    "output.coalesce(1).write.mode(\"overwrite\").format('csv').option('header', 'true') .option('delimiter', ',').save('/tmp/output_data/spark_movie/freq_genre_per_rating.csv')\n",
    "print(\"Write Successfull\")"
   ]
  },
  {
   "cell_type": "code",
   "execution_count": 17,
   "id": "da6fd6ed-6b65-4f76-be02-ed9ccaf93ae8",
   "metadata": {},
   "outputs": [
    {
     "name": "stdout",
     "output_type": "stream",
     "text": [
      "+--------------------+-----------------+\n",
      "|              genres|most_frequent_tag|\n",
      "+--------------------+-----------------+\n",
      "|             Western|             null|\n",
      "|                 War|             null|\n",
      "|            Thriller|             null|\n",
      "|Sci-Fi|Thriller|IMAX|             null|\n",
      "|     Sci-Fi|Thriller|             null|\n",
      "|         Sci-Fi|IMAX|      time-travel|\n",
      "|         Sci-Fi|IMAX|           sci-fi|\n",
      "|              Sci-Fi|             null|\n",
      "|     Romance|Western|             null|\n",
      "|         Romance|War|        Hemingway|\n",
      "|    Romance|Thriller|             null|\n",
      "|Romance|Sci-Fi|Th...|         artistic|\n",
      "|Romance|Sci-Fi|Th...|            artsy|\n",
      "|Romance|Sci-Fi|Th...|             null|\n",
      "|Romance|Sci-Fi|Th...|        dreamlike|\n",
      "|Romance|Sci-Fi|Th...|      atmospheric|\n",
      "|Romance|Sci-Fi|Th...|   existentialism|\n",
      "|Romance|Sci-Fi|Th...|        Beautiful|\n",
      "|      Romance|Sci-Fi|             null|\n",
      "|             Romance|             null|\n",
      "+--------------------+-----------------+\n",
      "only showing top 20 rows\n",
      "\n",
      "Write Successfull\n"
     ]
    }
   ],
   "source": [
    "# Predominant tag per genre\n",
    "\n",
    "query= \"\"\"with t1 as(\n",
    "          Select m.genres,t.tag,count(*) as counts,\n",
    "          dense_rank()over(partition by m.genres order by count(*) desc) as ranker\n",
    "          from MOVIES AS m\n",
    "          left join TAGS as t\n",
    "          on t.movieID=m.movieID\n",
    "          group by 1,2)\n",
    "          \n",
    "          Select genres,tag as most_frequent_tag from t1 \n",
    "          where ranker=1\n",
    "          order by genres desc\"\"\"\n",
    "\n",
    "\n",
    "          \n",
    "\n",
    "output = spark.sql(query)\n",
    "output.show()\n",
    "\n",
    "# Write data in HDFS into single file\n",
    "\n",
    "output.coalesce(1).write.mode(\"overwrite\").format('csv').option('header', 'true') .option('delimiter', ',').save('/tmp/output_data/spark_movie/freq_tag_per_genre.csv')\n",
    "print(\"Write Successfull\")"
   ]
  },
  {
   "cell_type": "code",
   "execution_count": 18,
   "id": "94623dab-0a9f-44a3-9755-a87b23db557b",
   "metadata": {},
   "outputs": [
    {
     "name": "stderr",
     "output_type": "stream",
     "text": [
      "23/12/04 03:44:30 WARN WindowExec: No Partition Defined for Window operation! Moving all data to a single partition, this can cause serious performance degradation.\n",
      "23/12/04 03:44:30 WARN WindowExec: No Partition Defined for Window operation! Moving all data to a single partition, this can cause serious performance degradation.\n",
      "23/12/04 03:44:30 WARN WindowExec: No Partition Defined for Window operation! Moving all data to a single partition, this can cause serious performance degradation.\n",
      "23/12/04 03:44:30 WARN WindowExec: No Partition Defined for Window operation! Moving all data to a single partition, this can cause serious performance degradation.\n",
      "23/12/04 03:44:30 WARN WindowExec: No Partition Defined for Window operation! Moving all data to a single partition, this can cause serious performance degradation.\n",
      "23/12/04 03:44:32 WARN WindowExec: No Partition Defined for Window operation! Moving all data to a single partition, this can cause serious performance degradation.\n",
      "23/12/04 03:44:32 WARN WindowExec: No Partition Defined for Window operation! Moving all data to a single partition, this can cause serious performance degradation.\n",
      "23/12/04 03:44:33 WARN WindowExec: No Partition Defined for Window operation! Moving all data to a single partition, this can cause serious performance degradation.\n",
      "23/12/04 03:44:33 WARN WindowExec: No Partition Defined for Window operation! Moving all data to a single partition, this can cause serious performance degradation.\n",
      "23/12/04 03:44:33 WARN WindowExec: No Partition Defined for Window operation! Moving all data to a single partition, this can cause serious performance degradation.\n",
      "23/12/04 03:44:33 WARN WindowExec: No Partition Defined for Window operation! Moving all data to a single partition, this can cause serious performance degradation.\n",
      "23/12/04 03:44:33 WARN WindowExec: No Partition Defined for Window operation! Moving all data to a single partition, this can cause serious performance degradation.\n",
      "23/12/04 03:44:33 WARN WindowExec: No Partition Defined for Window operation! Moving all data to a single partition, this can cause serious performance degradation.\n",
      "23/12/04 03:44:33 WARN WindowExec: No Partition Defined for Window operation! Moving all data to a single partition, this can cause serious performance degradation.\n"
     ]
    },
    {
     "name": "stdout",
     "output_type": "stream",
     "text": [
      "+--------------------+------+\n",
      "|               title|counts|\n",
      "+--------------------+------+\n",
      "| Forrest Gump (1994)|   329|\n",
      "|Shawshank Redempt...|   317|\n",
      "| Pulp Fiction (1994)|   307|\n",
      "|Silence of the La...|   279|\n",
      "|  Matrix, The (1999)|   278|\n",
      "|Star Wars: Episod...|   251|\n",
      "|Jurassic Park (1993)|   238|\n",
      "|   Braveheart (1995)|   237|\n",
      "|Terminator 2: Jud...|   224|\n",
      "|Schindler's List ...|   220|\n",
      "+--------------------+------+\n",
      "\n"
     ]
    },
    {
     "name": "stderr",
     "output_type": "stream",
     "text": [
      "23/12/04 03:44:34 WARN WindowExec: No Partition Defined for Window operation! Moving all data to a single partition, this can cause serious performance degradation.\n",
      "23/12/04 03:44:34 WARN WindowExec: No Partition Defined for Window operation! Moving all data to a single partition, this can cause serious performance degradation.\n",
      "23/12/04 03:44:35 WARN WindowExec: No Partition Defined for Window operation! Moving all data to a single partition, this can cause serious performance degradation.\n",
      "23/12/04 03:44:35 WARN WindowExec: No Partition Defined for Window operation! Moving all data to a single partition, this can cause serious performance degradation.\n",
      "23/12/04 03:44:35 WARN WindowExec: No Partition Defined for Window operation! Moving all data to a single partition, this can cause serious performance degradation.\n",
      "23/12/04 03:44:35 WARN WindowExec: No Partition Defined for Window operation! Moving all data to a single partition, this can cause serious performance degradation.\n",
      "23/12/04 03:44:36 WARN WindowExec: No Partition Defined for Window operation! Moving all data to a single partition, this can cause serious performance degradation.\n",
      "23/12/04 03:44:36 WARN WindowExec: No Partition Defined for Window operation! Moving all data to a single partition, this can cause serious performance degradation.\n"
     ]
    },
    {
     "name": "stdout",
     "output_type": "stream",
     "text": [
      "Write Successfull\n"
     ]
    },
    {
     "name": "stderr",
     "output_type": "stream",
     "text": [
      "                                                                                \r"
     ]
    }
   ],
   "source": [
    "# Top 10 popular movies (most users seen/rated it)\n",
    "\n",
    "query= \"\"\"with t1 as(\n",
    "          Select r.movieID,m.title,count(distinct r.userID) as counts,\n",
    "          dense_rank()over(order by count(distinct r.userid) desc) as ranker\n",
    "          from RATINGS as r\n",
    "          left join MOVIES as m\n",
    "          on r.movieID=m.movieID\n",
    "          group by 1,2)\n",
    "          \n",
    "          Select title,counts from t1 \n",
    "          where ranker<=10\n",
    "          \"\"\"\n",
    "\n",
    "\n",
    "          \n",
    "\n",
    "output = spark.sql(query)\n",
    "output.show()\n",
    "\n",
    "# Write data in HDFS into single file\n",
    "\n",
    "output.coalesce(1).write.mode(\"overwrite\").format('csv').option('header', 'true') .option('delimiter', ',').save('/tmp/output_data/spark_movie/popular_movies.csv')\n",
    "print(\"Write Successfull\")"
   ]
  },
  {
   "cell_type": "code",
   "execution_count": 19,
   "id": "30127372-18fd-4230-9165-daba0594b32e",
   "metadata": {},
   "outputs": [
    {
     "name": "stderr",
     "output_type": "stream",
     "text": [
      "23/12/04 03:44:39 WARN WindowExec: No Partition Defined for Window operation! Moving all data to a single partition, this can cause serious performance degradation.\n",
      "23/12/04 03:44:39 WARN WindowExec: No Partition Defined for Window operation! Moving all data to a single partition, this can cause serious performance degradation.\n",
      "23/12/04 03:44:39 WARN WindowExec: No Partition Defined for Window operation! Moving all data to a single partition, this can cause serious performance degradation.\n",
      "23/12/04 03:44:39 WARN WindowExec: No Partition Defined for Window operation! Moving all data to a single partition, this can cause serious performance degradation.\n",
      "23/12/04 03:44:40 WARN WindowExec: No Partition Defined for Window operation! Moving all data to a single partition, this can cause serious performance degradation.\n",
      "23/12/04 03:44:40 WARN WindowExec: No Partition Defined for Window operation! Moving all data to a single partition, this can cause serious performance degradation.\n",
      "23/12/04 03:44:41 WARN WindowExec: No Partition Defined for Window operation! Moving all data to a single partition, this can cause serious performance degradation.\n",
      "23/12/04 03:44:41 WARN WindowExec: No Partition Defined for Window operation! Moving all data to a single partition, this can cause serious performance degradation.\n",
      "23/12/04 03:44:41 WARN WindowExec: No Partition Defined for Window operation! Moving all data to a single partition, this can cause serious performance degradation.\n",
      "23/12/04 03:44:41 WARN WindowExec: No Partition Defined for Window operation! Moving all data to a single partition, this can cause serious performance degradation.\n",
      "23/12/04 03:44:41 WARN WindowExec: No Partition Defined for Window operation! Moving all data to a single partition, this can cause serious performance degradation.\n",
      "23/12/04 03:44:41 WARN WindowExec: No Partition Defined for Window operation! Moving all data to a single partition, this can cause serious performance degradation.\n"
     ]
    },
    {
     "name": "stdout",
     "output_type": "stream",
     "text": [
      "+--------------------+-----------+------+\n",
      "|               title| avg_rating|ranker|\n",
      "+--------------------+-----------+------+\n",
      "|Shawshank Redempt...|4.429022082|     1|\n",
      "|Lawrence of Arabi...|        4.3|     2|\n",
      "|Godfather, The (1...|  4.2890625|     3|\n",
      "|   Fight Club (1999)| 4.27293578|     4|\n",
      "|Cool Hand Luke (1...|4.271929825|     5|\n",
      "|Dr. Strangelove o...|4.268041237|     6|\n",
      "|  Rear Window (1954)|4.261904762|     7|\n",
      "|Godfather: Part I...|4.259689922|     8|\n",
      "|Departed, The (2006)|4.252336449|     9|\n",
      "|   Goodfellas (1990)|       4.25|    10|\n",
      "+--------------------+-----------+------+\n",
      "\n"
     ]
    },
    {
     "name": "stderr",
     "output_type": "stream",
     "text": [
      "23/12/04 03:44:42 WARN WindowExec: No Partition Defined for Window operation! Moving all data to a single partition, this can cause serious performance degradation.\n",
      "23/12/04 03:44:42 WARN WindowExec: No Partition Defined for Window operation! Moving all data to a single partition, this can cause serious performance degradation.\n",
      "23/12/04 03:44:42 WARN WindowExec: No Partition Defined for Window operation! Moving all data to a single partition, this can cause serious performance degradation.\n",
      "23/12/04 03:44:42 WARN WindowExec: No Partition Defined for Window operation! Moving all data to a single partition, this can cause serious performance degradation.\n",
      "23/12/04 03:44:43 WARN WindowExec: No Partition Defined for Window operation! Moving all data to a single partition, this can cause serious performance degradation.\n",
      "23/12/04 03:44:43 WARN WindowExec: No Partition Defined for Window operation! Moving all data to a single partition, this can cause serious performance degradation.\n",
      "23/12/04 03:44:43 WARN WindowExec: No Partition Defined for Window operation! Moving all data to a single partition, this can cause serious performance degradation.\n",
      "23/12/04 03:44:43 WARN WindowExec: No Partition Defined for Window operation! Moving all data to a single partition, this can cause serious performance degradation.\n"
     ]
    },
    {
     "name": "stdout",
     "output_type": "stream",
     "text": [
      "Write Successfull\n"
     ]
    }
   ],
   "source": [
    "# Top 10 movies in terms of avg rating (>30 users reviewed)\n",
    "\n",
    "query= \"\"\"with t1 as(\n",
    "          Select movieid,avg(rating) as avg_rating,\n",
    "          dense_rank()over (order by avg(rating) desc) as ranker\n",
    "          from RATINGS\n",
    "          group by 1\n",
    "          having count(distinct userID)>30)\n",
    "          \n",
    "          Select m.title,round(t1.avg_rating,9) as avg_rating,t1.ranker from t1\n",
    "          left join MOVIES as m\n",
    "          on t1.movieID=m.movieID\n",
    "          where ranker<=10\n",
    "          \"\"\"\n",
    "\n",
    "\n",
    "          \n",
    "\n",
    "output = spark.sql(query)\n",
    "output.show()\n",
    "\n",
    "# Write data in HDFS into single file\n",
    "\n",
    "output.coalesce(1).write.mode(\"overwrite\").format('csv').option('header', 'true') .option('delimiter', ',').save('/tmp/output_data/spark_movie/top_10_morethan30users.csv')\n",
    "print(\"Write Successfull\")"
   ]
  }
 ],
 "metadata": {
  "kernelspec": {
   "display_name": "PySpark",
   "language": "python",
   "name": "pyspark"
  },
  "language_info": {
   "codemirror_mode": {
    "name": "ipython",
    "version": 3
   },
   "file_extension": ".py",
   "mimetype": "text/x-python",
   "name": "python",
   "nbconvert_exporter": "python",
   "pygments_lexer": "ipython3",
   "version": "3.10.8"
  }
 },
 "nbformat": 4,
 "nbformat_minor": 5
}
