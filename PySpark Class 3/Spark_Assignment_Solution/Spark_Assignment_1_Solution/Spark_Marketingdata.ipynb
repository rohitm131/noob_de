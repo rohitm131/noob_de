{
 "cells": [
  {
   "cell_type": "code",
   "execution_count": 3,
   "id": "faa11726-2a4f-45f6-9f14-76f45242b335",
   "metadata": {},
   "outputs": [],
   "source": [
    "from pyspark.sql import SparkSession\n",
    "from pyspark.sql import functions as F\n",
    "from pyspark.sql.types import StructType, StructField, StringType, TimestampType, ArrayType\n",
    "\n",
    "# Create Spark session\n",
    "spark = SparkSession.builder \\\n",
    "    .appName(\"Spark with Hive\") \\\n",
    "    .enableHiveSupport() \\\n",
    "    .getOrCreate()\n",
    "\n",
    "# # Load the JSON data\n",
    "hdfs_path1 = '/tmp/marketing_data/ad_campaigns_data.json'\n",
    "hdfs_path2 = '/tmp/marketing_data/user_profile_data.json'\n",
    "hdfs_path3 = '/tmp/marketing_data/store_data.json'\n",
    "\n",
    "\n",
    "# Define the schema\n",
    "schema_campaigns = StructType([\n",
    "    StructField(\"campaign_id\", StringType(), True),\n",
    "    StructField(\"campaign_name\", StringType(), True),\n",
    "    StructField(\"campaign_country\", StringType(), True),\n",
    "    StructField(\"os_type\", StringType(), True),\n",
    "    StructField(\"device_type\", StringType(), True),\n",
    "    StructField(\"place_id\", StringType(), True),\n",
    "    StructField(\"user_id\", StringType(), True),\n",
    "    StructField(\"event_type\", StringType(), True),\n",
    "    StructField(\"event_time\", TimestampType(), True)\n",
    "])\n",
    "\n",
    "\n",
    "schema_users = StructType([\n",
    "    StructField(\"user_id\", StringType(), True),\n",
    "    StructField(\"country\", StringType(), True),\n",
    "    StructField(\"gender\", StringType(), True),\n",
    "    StructField(\"age_group\", StringType(), True),\n",
    "    StructField(\"category\", ArrayType(StringType()), True)\n",
    "])\n",
    "\n",
    "\n",
    "schema_stores = StructType([\n",
    "    StructField(\"store_name\", StringType(), True),\n",
    "    StructField(\"place_ids\", ArrayType(StringType()), True)\n",
    "])\n",
    "\n",
    "\n",
    "df_campaigns = spark.read.format('json').option(\"multiline\", \"true\").schema(schema_campaigns).load(hdfs_path1)\n",
    "df_users = spark.read.format('json').option(\"multiline\", \"true\").schema(schema_users).load(hdfs_path2)\n",
    "df_stores = spark.read.format('json').option(\"multiline\", \"true\").schema(schema_stores).load(hdfs_path3)\n",
    "\n",
    "\n",
    "\n",
    "\n"
   ]
  },
  {
   "cell_type": "code",
   "execution_count": 4,
   "id": "8da22722-74ee-403a-8cb4-a74b8286d198",
   "metadata": {},
   "outputs": [
    {
     "name": "stdout",
     "output_type": "stream",
     "text": [
      "root\n",
      " |-- campaign_id: string (nullable = true)\n",
      " |-- campaign_name: string (nullable = true)\n",
      " |-- campaign_country: string (nullable = true)\n",
      " |-- os_type: string (nullable = true)\n",
      " |-- device_type: string (nullable = true)\n",
      " |-- place_id: string (nullable = true)\n",
      " |-- user_id: string (nullable = true)\n",
      " |-- event_type: string (nullable = true)\n",
      " |-- event_time: timestamp (nullable = true)\n",
      "\n",
      "root\n",
      " |-- user_id: string (nullable = true)\n",
      " |-- country: string (nullable = true)\n",
      " |-- gender: string (nullable = true)\n",
      " |-- age_group: string (nullable = true)\n",
      " |-- category: array (nullable = true)\n",
      " |    |-- element: string (containsNull = true)\n",
      "\n",
      "root\n",
      " |-- store_name: string (nullable = true)\n",
      " |-- place_ids: array (nullable = true)\n",
      " |    |-- element: string (containsNull = true)\n",
      "\n"
     ]
    }
   ],
   "source": [
    "# Print schema and sample data\n",
    "df_campaigns.printSchema()\n",
    "df_users.printSchema()\n",
    "df_stores.printSchema()"
   ]
  },
  {
   "cell_type": "code",
   "execution_count": 5,
   "id": "e250c41f-bede-41f8-84e3-5f592fbb890c",
   "metadata": {},
   "outputs": [
    {
     "name": "stdout",
     "output_type": "stream",
     "text": [
      "+-----------+--------------------+----------------+-------+-----------+---------+-------------------+----------+-------------------+\n",
      "|campaign_id|       campaign_name|campaign_country|os_type|device_type| place_id|            user_id|event_type|         event_time|\n",
      "+-----------+--------------------+----------------+-------+-----------+---------+-------------------+----------+-------------------+\n",
      "|    ABCDFAE|Food category tar...|             USA|    ios|      apple|CASSBB-11|1264374214654454321|impression|2018-10-12 13:10:05|\n",
      "|    ABCDFAE|Food category tar...|             USA|android|   MOTOROLA|CADGBD-13|1674374214654454321|impression|2018-10-12 13:09:04|\n",
      "|    ABCDFAE|Food category tar...|             USA|android|    SAMSUNG|BADGBA-12|   5747421465445443|  video ad|2018-10-12 13:10:10|\n",
      "|    ABCDFAE|Food category tar...|             USA|android|    SAMSUNG|CASSBB-11|1864374214654454132|     click|2018-10-12 13:10:12|\n",
      "+-----------+--------------------+----------------+-------+-----------+---------+-------------------+----------+-------------------+\n",
      "\n",
      "+-------------------+-------+------+---------+--------------------+\n",
      "|            user_id|country|gender|age_group|            category|\n",
      "+-------------------+-------+------+---------+--------------------+\n",
      "|1264374214654454321|    USA|  male|    18-25|  [shopper, student]|\n",
      "|1674374214654454321|    USA|female|    25-50|            [parent]|\n",
      "|   5747421465445443|    USA|  male|    25-50|[shopper, parent,...|\n",
      "|1864374214654454132|    USA|  male|      50+|      [professional]|\n",
      "|  14537421465445443|    USA|female|    18-25|  [shopper, student]|\n",
      "+-------------------+-------+------+---------+--------------------+\n",
      "only showing top 5 rows\n",
      "\n",
      "+-------------+--------------------+\n",
      "|   store_name|           place_ids|\n",
      "+-------------+--------------------+\n",
      "|     McDonald|[CASSBB-11, CADGB...|\n",
      "|   BurgerKing|         [CASSBB-11]|\n",
      "|        Macys|[BADGBA-13, CASSB...|\n",
      "|shoppers stop|         [BADGBA-12]|\n",
      "+-------------+--------------------+\n",
      "\n"
     ]
    }
   ],
   "source": [
    "# Show the dataframes\n",
    "df_campaigns.show(5)\n",
    "df_users.show(5)\n",
    "df_stores.show(5)"
   ]
  },
  {
   "cell_type": "code",
   "execution_count": 6,
   "id": "f625fdc4-58aa-4057-af93-e9ec6eecb497",
   "metadata": {},
   "outputs": [],
   "source": [
    "# Extract date and hour from the event_time column\n",
    "df_campaigns = df_campaigns.withColumn(\"event_time\", F.col(\"event_time\").cast(\"timestamp\"))\n",
    "df_campaigns = df_campaigns.withColumn(\"date\", F.to_date(\"event_time\"))\n",
    "df_campaigns = df_campaigns.withColumn(\"hour\", F.hour(\"event_time\"))"
   ]
  },
  {
   "cell_type": "code",
   "execution_count": 7,
   "id": "fd47f142-d537-4fa1-bc2c-f0b94b82a2e4",
   "metadata": {},
   "outputs": [
    {
     "name": "stderr",
     "output_type": "stream",
     "text": [
      "                                                                                \r"
     ]
    }
   ],
   "source": [
    "# Define the output path\n",
    "hdfs_output_path1 = '/tmp/marketing_data/output/'\n",
    "\n",
    "# Q1. Analyze data for each campaign_id, date, hour, os_type & value to get all the events with counts\n",
    "result_q1 = (\n",
    "    df_campaigns.groupBy(\"campaign_id\", \"date\", \"hour\", \"os_type\", \"event_type\")\n",
    "    .agg(F.count(\"event_type\").alias(\"event_count\"))\n",
    "    .groupBy(\"campaign_id\", \"date\", \"hour\", \"os_type\")\n",
    "    .pivot(\"event_type\")\n",
    "    .agg(F.first(\"event_count\"))\n",
    "    .fillna(0)\n",
    "    .select(\n",
    "        \"campaign_id\",\n",
    "        \"date\",\n",
    "        \"hour\",\n",
    "        \"os_type\",\n",
    "        F.struct(\n",
    "            F.col(\"impression\").alias(\"impression\"),\n",
    "            F.col(\"click\").alias(\"click\"),\n",
    "            F.col(\"video ad\").alias(\"video_ad\"),\n",
    "        ).alias(\"event\"),\n",
    "    )\n",
    ")\n",
    "\n"
   ]
  },
  {
   "cell_type": "code",
   "execution_count": 8,
   "id": "80eec016-02f6-479b-bdf0-97b6fc18488c",
   "metadata": {},
   "outputs": [
    {
     "name": "stderr",
     "output_type": "stream",
     "text": [
      "[Stage 14:>                                                         (0 + 1) / 1]\r"
     ]
    },
    {
     "name": "stdout",
     "output_type": "stream",
     "text": [
      "+-----------+----------+----+-------+---------+\n",
      "|campaign_id|      date|hour|os_type|    event|\n",
      "+-----------+----------+----+-------+---------+\n",
      "|    ABCDFAE|2018-10-12|  13|android|{1, 1, 1}|\n",
      "|    ABCDFAE|2018-10-12|  13|    ios|{1, 0, 0}|\n",
      "+-----------+----------+----+-------+---------+\n",
      "\n"
     ]
    },
    {
     "name": "stderr",
     "output_type": "stream",
     "text": [
      "                                                                                \r"
     ]
    }
   ],
   "source": [
    "result_q1.show()"
   ]
  },
  {
   "cell_type": "code",
   "execution_count": 9,
   "id": "db2a50d7-511b-456f-979a-f6b2efb92a39",
   "metadata": {},
   "outputs": [
    {
     "name": "stderr",
     "output_type": "stream",
     "text": [
      "                                                                                \r"
     ]
    }
   ],
   "source": [
    "# Save the result to HDFS\n",
    "result_q1.write.json(hdfs_output_path1 + \"q1_output\", mode=\"overwrite\")"
   ]
  },
  {
   "cell_type": "code",
   "execution_count": 14,
   "id": "b1bd4a43-af96-4a1b-a57b-d13320abb995",
   "metadata": {},
   "outputs": [],
   "source": [
    "# Define the output path\n",
    "hdfs_output_path2 = '/tmp/marketing_data/output2/'\n",
    "\n",
    "# Q2. Analyze data for each campaign_id, date, hour, store_name & value to get all the events with counts\n",
    "result_q2 = (\n",
    "    df_campaigns.join(df_stores, F.array_contains(df_stores.place_ids, df_campaigns.place_id), \"inner\")\n",
    "    .groupBy(\"campaign_id\", \"date\", \"hour\", \"store_name\", \"event_type\")\n",
    "    .agg(F.count(\"event_type\").alias(\"event_count\"))\n",
    "    .groupBy(\"campaign_id\", \"date\", \"hour\", \"store_name\")\n",
    "    .pivot(\"event_type\")\n",
    "    .agg(F.first(\"event_count\"))\n",
    "    .fillna(0)\n",
    "    .select(\n",
    "        \"campaign_id\",\n",
    "        \"date\",\n",
    "        \"hour\",\n",
    "        \"store_name\",\n",
    "        F.struct(\n",
    "            F.col(\"impression\").alias(\"impression\"),\n",
    "            F.col(\"click\").alias(\"click\"),\n",
    "            F.col(\"video ad\").alias(\"video_ad\"),\n",
    "        ).alias(\"event\"),\n",
    "    )\n",
    ")"
   ]
  },
  {
   "cell_type": "code",
   "execution_count": 15,
   "id": "fa0b6e0e-6de8-4e1f-95e2-8f7064c6dd83",
   "metadata": {},
   "outputs": [
    {
     "name": "stdout",
     "output_type": "stream",
     "text": [
      "+-----------+----------+----+-------------+---------+\n",
      "|campaign_id|      date|hour|   store_name|    event|\n",
      "+-----------+----------+----+-------------+---------+\n",
      "|    ABCDFAE|2018-10-12|  13|   BurgerKing|{1, 1, 0}|\n",
      "|    ABCDFAE|2018-10-12|  13|     McDonald|{2, 1, 0}|\n",
      "|    ABCDFAE|2018-10-12|  13|shoppers stop|{0, 0, 1}|\n",
      "+-----------+----------+----+-------------+---------+\n",
      "\n"
     ]
    }
   ],
   "source": [
    "result_q2.show()"
   ]
  },
  {
   "cell_type": "code",
   "execution_count": 16,
   "id": "13a5358c-0a42-4e22-8603-15b2554d85c2",
   "metadata": {},
   "outputs": [],
   "source": [
    "# Save the result to HDFS\n",
    "result_q2.write.json(hdfs_output_path2 + \"q2_output\", mode=\"overwrite\")"
   ]
  },
  {
   "cell_type": "code",
   "execution_count": 18,
   "id": "8d7dec46-d9f7-411e-a4d8-113b23d57513",
   "metadata": {},
   "outputs": [],
   "source": [
    "# Define the output path\n",
    "hdfs_output_path3 = '/tmp/marketing_data/output3/'\n",
    "\n",
    "# Q3. Analyze data for each campaign_id, date, hour, gender_type & value to get all the events with counts\n",
    "result_q3 = (\n",
    "    df_campaigns.join(df_users, \"user_id\", \"inner\")\n",
    "    .groupBy(\"campaign_id\", \"date\", \"hour\", \"gender\", \"event_type\")\n",
    "    .agg(F.count(\"event_type\").alias(\"event_count\"))\n",
    "    .groupBy(\"campaign_id\", \"date\", \"hour\", \"gender\")\n",
    "    .pivot(\"event_type\")\n",
    "    .agg(F.first(\"event_count\"))\n",
    "    .fillna(0)\n",
    "    .select(\n",
    "        \"campaign_id\",\n",
    "        \"date\",\n",
    "        \"hour\",\n",
    "        \"gender\",\n",
    "        F.struct(\n",
    "            F.col(\"impression\").alias(\"impression\"),\n",
    "            F.col(\"click\").alias(\"click\"),\n",
    "            F.col(\"video ad\").alias(\"video_ad\"),\n",
    "        ).alias(\"event\"),\n",
    "    )\n",
    ")"
   ]
  },
  {
   "cell_type": "code",
   "execution_count": 19,
   "id": "000fd2d4-b199-4a92-9983-5d9879619f2e",
   "metadata": {},
   "outputs": [
    {
     "name": "stdout",
     "output_type": "stream",
     "text": [
      "+-----------+----------+----+------+---------+\n",
      "|campaign_id|      date|hour|gender|    event|\n",
      "+-----------+----------+----+------+---------+\n",
      "|    ABCDFAE|2018-10-12|  13|  male|{1, 1, 1}|\n",
      "|    ABCDFAE|2018-10-12|  13|female|{1, 0, 0}|\n",
      "+-----------+----------+----+------+---------+\n",
      "\n"
     ]
    }
   ],
   "source": [
    "result_q3.show()"
   ]
  },
  {
   "cell_type": "code",
   "execution_count": 20,
   "id": "db9f568c-4d72-43d9-a478-1c4a4b99739b",
   "metadata": {},
   "outputs": [],
   "source": [
    "# Save the result to HDFS\n",
    "result_q3.write.json(hdfs_output_path3 + \"q3_output\", mode=\"overwrite\")"
   ]
  },
  {
   "cell_type": "code",
   "execution_count": null,
   "id": "bd2036f5-48f7-4fc0-8fe3-d9caf4a07d92",
   "metadata": {},
   "outputs": [],
   "source": []
  }
 ],
 "metadata": {
  "kernelspec": {
   "display_name": "PySpark",
   "language": "python",
   "name": "pyspark"
  },
  "language_info": {
   "codemirror_mode": {
    "name": "ipython",
    "version": 3
   },
   "file_extension": ".py",
   "mimetype": "text/x-python",
   "name": "python",
   "nbconvert_exporter": "python",
   "pygments_lexer": "ipython3",
   "version": "3.10.8"
  }
 },
 "nbformat": 4,
 "nbformat_minor": 5
}
